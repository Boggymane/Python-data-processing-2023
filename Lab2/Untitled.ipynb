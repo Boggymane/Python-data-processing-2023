{
 "cells": [
  {
   "cell_type": "code",
   "execution_count": 1,
   "id": "c5bc879d-934a-4bbd-8475-921fedba3ac4",
   "metadata": {},
   "outputs": [
    {
     "name": "stdout",
     "output_type": "stream",
     "text": [
      "5\n"
     ]
    }
   ],
   "source": [
    "N = (5 + 4) % 5 + 1\n",
    "print(N)"
   ]
  },
  {
   "cell_type": "code",
   "execution_count": 2,
   "id": "72ffbf3c-76c5-41a0-bc96-f633a646a88c",
   "metadata": {},
   "outputs": [],
   "source": [
    "import numpy as np\n",
    "import pandas as pd"
   ]
  },
  {
   "cell_type": "code",
   "execution_count": 3,
   "id": "123a6a90-1561-4c38-a8d3-03760a799f31",
   "metadata": {},
   "outputs": [
    {
     "data": {
      "text/plain": [
       "0    0.25\n",
       "1    0.50\n",
       "2    0.75\n",
       "3    1.00\n",
       "dtype: float64"
      ]
     },
     "execution_count": 3,
     "metadata": {},
     "output_type": "execute_result"
    }
   ],
   "source": [
    " data = pd.Series([0.25, 0.5, 0.75, 1.0])\n",
    " data"
   ]
  },
  {
   "cell_type": "code",
   "execution_count": 4,
   "id": "5ebd84c1-fd84-4dce-8af4-4bc2cd9cc0c3",
   "metadata": {},
   "outputs": [
    {
     "data": {
      "text/plain": [
       "RangeIndex(start=0, stop=4, step=1)"
      ]
     },
     "execution_count": 4,
     "metadata": {},
     "output_type": "execute_result"
    }
   ],
   "source": [
    "data.index"
   ]
  },
  {
   "cell_type": "code",
   "execution_count": 5,
   "id": "cbef1f80-813e-4fed-b356-fcb33872f31e",
   "metadata": {},
   "outputs": [
    {
     "data": {
      "text/plain": [
       "0.5"
      ]
     },
     "execution_count": 5,
     "metadata": {},
     "output_type": "execute_result"
    }
   ],
   "source": [
    "data[1]"
   ]
  },
  {
   "cell_type": "code",
   "execution_count": 6,
   "id": "4157413a-7408-4159-86c4-a1c59ce5cfbe",
   "metadata": {},
   "outputs": [
    {
     "data": {
      "text/plain": [
       "1    0.50\n",
       "2    0.75\n",
       "dtype: float64"
      ]
     },
     "execution_count": 6,
     "metadata": {},
     "output_type": "execute_result"
    }
   ],
   "source": [
    "data[1:3]"
   ]
  },
  {
   "cell_type": "code",
   "execution_count": 10,
   "id": "a0c9f3a0-f354-4c5b-ba9a-3ae728bc198f",
   "metadata": {},
   "outputs": [
    {
     "data": {
      "text/plain": [
       "a    0.25\n",
       "b    0.50\n",
       "c    0.75\n",
       "d    1.00\n",
       "dtype: float64"
      ]
     },
     "execution_count": 10,
     "metadata": {},
     "output_type": "execute_result"
    }
   ],
   "source": [
    "data = pd.Series([0.25, 0.5, 0.75, 1.0],\n",
    " index=['a', 'b', 'c', 'd'])\n",
    "data"
   ]
  },
  {
   "cell_type": "code",
   "execution_count": 11,
   "id": "55488b87-38b5-4e6e-85f3-5d090efbf212",
   "metadata": {},
   "outputs": [
    {
     "data": {
      "text/plain": [
       "Index(['a', 'b', 'c', 'd'], dtype='object')"
      ]
     },
     "execution_count": 11,
     "metadata": {},
     "output_type": "execute_result"
    }
   ],
   "source": [
    "data.index"
   ]
  },
  {
   "cell_type": "code",
   "execution_count": 12,
   "id": "32ffd590-b158-4bfe-b907-a222068dade4",
   "metadata": {},
   "outputs": [
    {
     "data": {
      "text/plain": [
       "0.5"
      ]
     },
     "execution_count": 12,
     "metadata": {},
     "output_type": "execute_result"
    }
   ],
   "source": [
    " data['b']"
   ]
  },
  {
   "cell_type": "code",
   "execution_count": 14,
   "id": "877cd2ca-2b87-48e8-b609-788f32794fad",
   "metadata": {},
   "outputs": [
    {
     "data": {
      "text/plain": [
       "2    0.25\n",
       "5    0.50\n",
       "3    0.75\n",
       "7    1.00\n",
       "dtype: float64"
      ]
     },
     "execution_count": 14,
     "metadata": {},
     "output_type": "execute_result"
    }
   ],
   "source": [
    "data = pd.Series([0.25, 0.5, 0.75, 1.0],\n",
    " index=[2, 5, 3, 7])\n",
    "data"
   ]
  },
  {
   "cell_type": "code",
   "execution_count": 15,
   "id": "598e8354-6b6e-470b-999f-d831ceb74edb",
   "metadata": {},
   "outputs": [
    {
     "data": {
      "text/plain": [
       "Kharkiv     1419036\n",
       "Kherson      289697\n",
       "Mariupol     446103\n",
       "Lviv         721301\n",
       "Kyiv        2884359\n",
       "dtype: int64"
      ]
     },
     "execution_count": 15,
     "metadata": {},
     "output_type": "execute_result"
    }
   ],
   "source": [
    "population_dict = {'Kharkiv': 1419036,\n",
    " 'Kherson': 289697,\n",
    " 'Mariupol': 446103,\n",
    " 'Lviv': 721301,\n",
    " 'Kyiv': 2884359}\n",
    "population = pd.Series(population_dict)\n",
    "population"
   ]
  },
  {
   "cell_type": "code",
   "execution_count": 16,
   "id": "0983ed4a-1843-4bc3-8764-49a4651afd44",
   "metadata": {},
   "outputs": [
    {
     "data": {
      "text/plain": [
       "1419036"
      ]
     },
     "execution_count": 16,
     "metadata": {},
     "output_type": "execute_result"
    }
   ],
   "source": [
    "population['Kharkiv']"
   ]
  },
  {
   "cell_type": "code",
   "execution_count": 17,
   "id": "9d64db0f-81bc-4537-b818-4f5bcbd00a78",
   "metadata": {},
   "outputs": [
    {
     "data": {
      "text/plain": [
       "Kherson     289697\n",
       "Mariupol    446103\n",
       "Lviv        721301\n",
       "dtype: int64"
      ]
     },
     "execution_count": 17,
     "metadata": {},
     "output_type": "execute_result"
    }
   ],
   "source": [
    "population['Kherson':'Lviv']"
   ]
  },
  {
   "cell_type": "code",
   "execution_count": 18,
   "id": "835a5dbd-36df-4a6d-930c-3ff98583702c",
   "metadata": {},
   "outputs": [
    {
     "data": {
      "text/plain": [
       "100    5\n",
       "200    5\n",
       "300    5\n",
       "dtype: int64"
      ]
     },
     "execution_count": 18,
     "metadata": {},
     "output_type": "execute_result"
    }
   ],
   "source": [
    "pd.Series(5, index=[100, 200, 300])"
   ]
  },
  {
   "cell_type": "code",
   "execution_count": 19,
   "id": "de1cc738-deb5-4e6e-9713-d026aa5c345d",
   "metadata": {},
   "outputs": [
    {
     "data": {
      "text/plain": [
       "2    a\n",
       "1    b\n",
       "3    a\n",
       "dtype: object"
      ]
     },
     "execution_count": 19,
     "metadata": {},
     "output_type": "execute_result"
    }
   ],
   "source": [
    "pd.Series({2:'a', 1:'b', 3:'a'})"
   ]
  },
  {
   "cell_type": "code",
   "execution_count": 20,
   "id": "89266bc2-7f2d-443c-8821-15d35f6494d0",
   "metadata": {},
   "outputs": [
    {
     "data": {
      "text/plain": [
       "3    c\n",
       "2    a\n",
       "dtype: object"
      ]
     },
     "execution_count": 20,
     "metadata": {},
     "output_type": "execute_result"
    }
   ],
   "source": [
    "pd.Series({2:'a',1:'b',3:'c'}, index=[3,2])"
   ]
  },
  {
   "cell_type": "code",
   "execution_count": 21,
   "id": "59a9cbbd-2af9-438f-8942-5af6c27c10ac",
   "metadata": {},
   "outputs": [
    {
     "data": {
      "text/plain": [
       "Kharkiv     350\n",
       "Kherson     145\n",
       "Mariupol    135\n",
       "Lviv        149\n",
       "Kyiv        856\n",
       "dtype: int64"
      ]
     },
     "execution_count": 21,
     "metadata": {},
     "output_type": "execute_result"
    }
   ],
   "source": [
    " area_dict = {'Kharkiv': 350,\n",
    " 'Kherson': 145,\n",
    "'Mariupol': 135,\n",
    " 'Lviv': 149,\n",
    " 'Kyiv': 856}\n",
    " area = pd.Series(area_dict)\n",
    " area"
   ]
  },
  {
   "cell_type": "code",
   "execution_count": 22,
   "id": "531ce0ab-542f-4f02-8719-afefc4cbc928",
   "metadata": {},
   "outputs": [
    {
     "data": {
      "text/html": [
       "<div>\n",
       "<style scoped>\n",
       "    .dataframe tbody tr th:only-of-type {\n",
       "        vertical-align: middle;\n",
       "    }\n",
       "\n",
       "    .dataframe tbody tr th {\n",
       "        vertical-align: top;\n",
       "    }\n",
       "\n",
       "    .dataframe thead th {\n",
       "        text-align: right;\n",
       "    }\n",
       "</style>\n",
       "<table border=\"1\" class=\"dataframe\">\n",
       "  <thead>\n",
       "    <tr style=\"text-align: right;\">\n",
       "      <th></th>\n",
       "      <th>population</th>\n",
       "      <th>area</th>\n",
       "    </tr>\n",
       "  </thead>\n",
       "  <tbody>\n",
       "    <tr>\n",
       "      <th>Kharkiv</th>\n",
       "      <td>1419036</td>\n",
       "      <td>350</td>\n",
       "    </tr>\n",
       "    <tr>\n",
       "      <th>Kherson</th>\n",
       "      <td>289697</td>\n",
       "      <td>145</td>\n",
       "    </tr>\n",
       "    <tr>\n",
       "      <th>Mariupol</th>\n",
       "      <td>446103</td>\n",
       "      <td>135</td>\n",
       "    </tr>\n",
       "    <tr>\n",
       "      <th>Lviv</th>\n",
       "      <td>721301</td>\n",
       "      <td>149</td>\n",
       "    </tr>\n",
       "    <tr>\n",
       "      <th>Kyiv</th>\n",
       "      <td>2884359</td>\n",
       "      <td>856</td>\n",
       "    </tr>\n",
       "  </tbody>\n",
       "</table>\n",
       "</div>"
      ],
      "text/plain": [
       "          population  area\n",
       "Kharkiv      1419036   350\n",
       "Kherson       289697   145\n",
       "Mariupol      446103   135\n",
       "Lviv          721301   149\n",
       "Kyiv         2884359   856"
      ]
     },
     "execution_count": 22,
     "metadata": {},
     "output_type": "execute_result"
    }
   ],
   "source": [
    "cities=pd.DataFrame({'population':population,\n",
    " 'area': area})\n",
    "cities"
   ]
  },
  {
   "cell_type": "code",
   "execution_count": 23,
   "id": "434ac328-fb30-464a-82ff-82f5f4352ffc",
   "metadata": {},
   "outputs": [
    {
     "data": {
      "text/plain": [
       "Index(['Kharkiv', 'Kherson', 'Mariupol', 'Lviv', 'Kyiv'], dtype='object')"
      ]
     },
     "execution_count": 23,
     "metadata": {},
     "output_type": "execute_result"
    }
   ],
   "source": [
    "cities.index"
   ]
  },
  {
   "cell_type": "code",
   "execution_count": 24,
   "id": "d084eb4c-6207-4441-ab0f-5bbd88daf372",
   "metadata": {},
   "outputs": [
    {
     "data": {
      "text/plain": [
       "Index(['population', 'area'], dtype='object')"
      ]
     },
     "execution_count": 24,
     "metadata": {},
     "output_type": "execute_result"
    }
   ],
   "source": [
    "cities.columns"
   ]
  },
  {
   "cell_type": "code",
   "execution_count": 25,
   "id": "87d6e443-20a0-4c2d-9833-124643303dcd",
   "metadata": {},
   "outputs": [
    {
     "data": {
      "text/plain": [
       "Kharkiv     350\n",
       "Kherson     145\n",
       "Mariupol    135\n",
       "Lviv        149\n",
       "Kyiv        856\n",
       "Name: area, dtype: int64"
      ]
     },
     "execution_count": 25,
     "metadata": {},
     "output_type": "execute_result"
    }
   ],
   "source": [
    "cities['area']"
   ]
  },
  {
   "cell_type": "code",
   "execution_count": 26,
   "id": "1dfd643e-5d0f-46af-9ff8-13e58d6641df",
   "metadata": {},
   "outputs": [
    {
     "data": {
      "text/html": [
       "<div>\n",
       "<style scoped>\n",
       "    .dataframe tbody tr th:only-of-type {\n",
       "        vertical-align: middle;\n",
       "    }\n",
       "\n",
       "    .dataframe tbody tr th {\n",
       "        vertical-align: top;\n",
       "    }\n",
       "\n",
       "    .dataframe thead th {\n",
       "        text-align: right;\n",
       "    }\n",
       "</style>\n",
       "<table border=\"1\" class=\"dataframe\">\n",
       "  <thead>\n",
       "    <tr style=\"text-align: right;\">\n",
       "      <th></th>\n",
       "      <th>population</th>\n",
       "    </tr>\n",
       "  </thead>\n",
       "  <tbody>\n",
       "    <tr>\n",
       "      <th>Kharkiv</th>\n",
       "      <td>1419036</td>\n",
       "    </tr>\n",
       "    <tr>\n",
       "      <th>Kherson</th>\n",
       "      <td>289697</td>\n",
       "    </tr>\n",
       "    <tr>\n",
       "      <th>Mariupol</th>\n",
       "      <td>446103</td>\n",
       "    </tr>\n",
       "    <tr>\n",
       "      <th>Lviv</th>\n",
       "      <td>721301</td>\n",
       "    </tr>\n",
       "    <tr>\n",
       "      <th>Kyiv</th>\n",
       "      <td>2884359</td>\n",
       "    </tr>\n",
       "  </tbody>\n",
       "</table>\n",
       "</div>"
      ],
      "text/plain": [
       "          population\n",
       "Kharkiv      1419036\n",
       "Kherson       289697\n",
       "Mariupol      446103\n",
       "Lviv          721301\n",
       "Kyiv         2884359"
      ]
     },
     "execution_count": 26,
     "metadata": {},
     "output_type": "execute_result"
    }
   ],
   "source": [
    "pd.DataFrame(population,columns=['population'])"
   ]
  },
  {
   "cell_type": "code",
   "execution_count": 27,
   "id": "567ec576-6959-40d9-bc64-97aff9dc5ff6",
   "metadata": {},
   "outputs": [
    {
     "data": {
      "text/html": [
       "<div>\n",
       "<style scoped>\n",
       "    .dataframe tbody tr th:only-of-type {\n",
       "        vertical-align: middle;\n",
       "    }\n",
       "\n",
       "    .dataframe tbody tr th {\n",
       "        vertical-align: top;\n",
       "    }\n",
       "\n",
       "    .dataframe thead th {\n",
       "        text-align: right;\n",
       "    }\n",
       "</style>\n",
       "<table border=\"1\" class=\"dataframe\">\n",
       "  <thead>\n",
       "    <tr style=\"text-align: right;\">\n",
       "      <th></th>\n",
       "      <th>a</th>\n",
       "      <th>b</th>\n",
       "    </tr>\n",
       "  </thead>\n",
       "  <tbody>\n",
       "    <tr>\n",
       "      <th>0</th>\n",
       "      <td>0</td>\n",
       "      <td>0</td>\n",
       "    </tr>\n",
       "    <tr>\n",
       "      <th>1</th>\n",
       "      <td>1</td>\n",
       "      <td>2</td>\n",
       "    </tr>\n",
       "    <tr>\n",
       "      <th>2</th>\n",
       "      <td>2</td>\n",
       "      <td>4</td>\n",
       "    </tr>\n",
       "    <tr>\n",
       "      <th>3</th>\n",
       "      <td>3</td>\n",
       "      <td>6</td>\n",
       "    </tr>\n",
       "    <tr>\n",
       "      <th>4</th>\n",
       "      <td>4</td>\n",
       "      <td>8</td>\n",
       "    </tr>\n",
       "  </tbody>\n",
       "</table>\n",
       "</div>"
      ],
      "text/plain": [
       "   a  b\n",
       "0  0  0\n",
       "1  1  2\n",
       "2  2  4\n",
       "3  3  6\n",
       "4  4  8"
      ]
     },
     "execution_count": 27,
     "metadata": {},
     "output_type": "execute_result"
    }
   ],
   "source": [
    "data = [{'a': i, 'b': 2 * i}\n",
    " for i in range(5)]\n",
    "pd.DataFrame(data)"
   ]
  },
  {
   "cell_type": "code",
   "execution_count": 28,
   "id": "86c9825c-09db-4d91-abf3-cf42832372c0",
   "metadata": {},
   "outputs": [
    {
     "data": {
      "text/html": [
       "<div>\n",
       "<style scoped>\n",
       "    .dataframe tbody tr th:only-of-type {\n",
       "        vertical-align: middle;\n",
       "    }\n",
       "\n",
       "    .dataframe tbody tr th {\n",
       "        vertical-align: top;\n",
       "    }\n",
       "\n",
       "    .dataframe thead th {\n",
       "        text-align: right;\n",
       "    }\n",
       "</style>\n",
       "<table border=\"1\" class=\"dataframe\">\n",
       "  <thead>\n",
       "    <tr style=\"text-align: right;\">\n",
       "      <th></th>\n",
       "      <th>a</th>\n",
       "      <th>b</th>\n",
       "      <th>c</th>\n",
       "    </tr>\n",
       "  </thead>\n",
       "  <tbody>\n",
       "    <tr>\n",
       "      <th>0</th>\n",
       "      <td>1.0</td>\n",
       "      <td>2</td>\n",
       "      <td>NaN</td>\n",
       "    </tr>\n",
       "    <tr>\n",
       "      <th>1</th>\n",
       "      <td>NaN</td>\n",
       "      <td>3</td>\n",
       "      <td>4.0</td>\n",
       "    </tr>\n",
       "  </tbody>\n",
       "</table>\n",
       "</div>"
      ],
      "text/plain": [
       "     a  b    c\n",
       "0  1.0  2  NaN\n",
       "1  NaN  3  4.0"
      ]
     },
     "execution_count": 28,
     "metadata": {},
     "output_type": "execute_result"
    }
   ],
   "source": [
    "pd.DataFrame([{'a': 1, 'b': 2},\n",
    " {'b': 3, 'c': 4}])"
   ]
  },
  {
   "cell_type": "code",
   "execution_count": 29,
   "id": "0d9320e5-6243-4980-8623-d53fd92bd196",
   "metadata": {},
   "outputs": [
    {
     "data": {
      "text/html": [
       "<div>\n",
       "<style scoped>\n",
       "    .dataframe tbody tr th:only-of-type {\n",
       "        vertical-align: middle;\n",
       "    }\n",
       "\n",
       "    .dataframe tbody tr th {\n",
       "        vertical-align: top;\n",
       "    }\n",
       "\n",
       "    .dataframe thead th {\n",
       "        text-align: right;\n",
       "    }\n",
       "</style>\n",
       "<table border=\"1\" class=\"dataframe\">\n",
       "  <thead>\n",
       "    <tr style=\"text-align: right;\">\n",
       "      <th></th>\n",
       "      <th>population</th>\n",
       "      <th>area</th>\n",
       "    </tr>\n",
       "  </thead>\n",
       "  <tbody>\n",
       "    <tr>\n",
       "      <th>Kharkiv</th>\n",
       "      <td>1419036</td>\n",
       "      <td>350</td>\n",
       "    </tr>\n",
       "    <tr>\n",
       "      <th>Kherson</th>\n",
       "      <td>289697</td>\n",
       "      <td>145</td>\n",
       "    </tr>\n",
       "    <tr>\n",
       "      <th>Mariupol</th>\n",
       "      <td>446103</td>\n",
       "      <td>135</td>\n",
       "    </tr>\n",
       "    <tr>\n",
       "      <th>Lviv</th>\n",
       "      <td>721301</td>\n",
       "      <td>149</td>\n",
       "    </tr>\n",
       "    <tr>\n",
       "      <th>Kyiv</th>\n",
       "      <td>2884359</td>\n",
       "      <td>856</td>\n",
       "    </tr>\n",
       "  </tbody>\n",
       "</table>\n",
       "</div>"
      ],
      "text/plain": [
       "          population  area\n",
       "Kharkiv      1419036   350\n",
       "Kherson       289697   145\n",
       "Mariupol      446103   135\n",
       "Lviv          721301   149\n",
       "Kyiv         2884359   856"
      ]
     },
     "execution_count": 29,
     "metadata": {},
     "output_type": "execute_result"
    }
   ],
   "source": [
    "pd.DataFrame({'population': population,\n",
    " 'area': area})"
   ]
  },
  {
   "cell_type": "code",
   "execution_count": null,
   "id": "9e0cf71f-4da9-470b-b2e1-6eca4637628c",
   "metadata": {},
   "outputs": [],
   "source": []
  }
 ],
 "metadata": {
  "kernelspec": {
   "display_name": "Python 3 (ipykernel)",
   "language": "python",
   "name": "python3"
  },
  "language_info": {
   "codemirror_mode": {
    "name": "ipython",
    "version": 3
   },
   "file_extension": ".py",
   "mimetype": "text/x-python",
   "name": "python",
   "nbconvert_exporter": "python",
   "pygments_lexer": "ipython3",
   "version": "3.12.0"
  }
 },
 "nbformat": 4,
 "nbformat_minor": 5
}
